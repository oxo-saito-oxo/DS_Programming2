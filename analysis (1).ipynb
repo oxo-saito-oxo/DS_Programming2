{
 "cells": [
  {
   "cell_type": "code",
   "execution_count": 1,
   "metadata": {},
   "outputs": [
    {
     "ename": "DatabaseError",
     "evalue": "Execution failed on sql '\nSELECT\n    title,\n    salary,\n    company,\n    location,\n    welcomed_skills,\n    employment_type\nFROM jobs.db\n': no such table: jobs.db",
     "output_type": "error",
     "traceback": [
      "\u001b[0;31m---------------------------------------------------------------------------\u001b[0m",
      "\u001b[0;31mOperationalError\u001b[0m                          Traceback (most recent call last)",
      "File \u001b[0;32m~/DS_Programming2/.venv/lib/python3.12/site-packages/pandas/io/sql.py:2674\u001b[0m, in \u001b[0;36mSQLiteDatabase.execute\u001b[0;34m(self, sql, params)\u001b[0m\n\u001b[1;32m   2673\u001b[0m \u001b[38;5;28;01mtry\u001b[39;00m:\n\u001b[0;32m-> 2674\u001b[0m     \u001b[43mcur\u001b[49m\u001b[38;5;241;43m.\u001b[39;49m\u001b[43mexecute\u001b[49m\u001b[43m(\u001b[49m\u001b[43msql\u001b[49m\u001b[43m,\u001b[49m\u001b[43m \u001b[49m\u001b[38;5;241;43m*\u001b[39;49m\u001b[43margs\u001b[49m\u001b[43m)\u001b[49m\n\u001b[1;32m   2675\u001b[0m     \u001b[38;5;28;01mreturn\u001b[39;00m cur\n",
      "\u001b[0;31mOperationalError\u001b[0m: no such table: jobs.db",
      "\nThe above exception was the direct cause of the following exception:\n",
      "\u001b[0;31mDatabaseError\u001b[0m                             Traceback (most recent call last)",
      "Cell \u001b[0;32mIn[1], line 20\u001b[0m\n\u001b[1;32m      8\u001b[0m \u001b[38;5;66;03m# テーブル名は仮にjob_tableとして、必要に応じて修正してください\u001b[39;00m\n\u001b[1;32m      9\u001b[0m query \u001b[38;5;241m=\u001b[39m \u001b[38;5;124m\"\"\"\u001b[39m\n\u001b[1;32m     10\u001b[0m \u001b[38;5;124mSELECT\u001b[39m\n\u001b[1;32m     11\u001b[0m \u001b[38;5;124m    title,\u001b[39m\n\u001b[0;32m   (...)\u001b[0m\n\u001b[1;32m     17\u001b[0m \u001b[38;5;124mFROM jobs.db\u001b[39m\n\u001b[1;32m     18\u001b[0m \u001b[38;5;124m\"\"\"\u001b[39m\n\u001b[0;32m---> 20\u001b[0m df \u001b[38;5;241m=\u001b[39m \u001b[43mpd\u001b[49m\u001b[38;5;241;43m.\u001b[39;49m\u001b[43mread_sql_query\u001b[49m\u001b[43m(\u001b[49m\u001b[43mquery\u001b[49m\u001b[43m,\u001b[49m\u001b[43m \u001b[49m\u001b[43mconn\u001b[49m\u001b[43m)\u001b[49m\n\u001b[1;32m     21\u001b[0m conn\u001b[38;5;241m.\u001b[39mclose()\n\u001b[1;32m     23\u001b[0m \u001b[38;5;66;03m# 取得したデータの先頭5行を確認\u001b[39;00m\n",
      "File \u001b[0;32m~/DS_Programming2/.venv/lib/python3.12/site-packages/pandas/io/sql.py:526\u001b[0m, in \u001b[0;36mread_sql_query\u001b[0;34m(sql, con, index_col, coerce_float, params, parse_dates, chunksize, dtype, dtype_backend)\u001b[0m\n\u001b[1;32m    523\u001b[0m \u001b[38;5;28;01massert\u001b[39;00m dtype_backend \u001b[38;5;129;01mis\u001b[39;00m \u001b[38;5;129;01mnot\u001b[39;00m lib\u001b[38;5;241m.\u001b[39mno_default\n\u001b[1;32m    525\u001b[0m \u001b[38;5;28;01mwith\u001b[39;00m pandasSQL_builder(con) \u001b[38;5;28;01mas\u001b[39;00m pandas_sql:\n\u001b[0;32m--> 526\u001b[0m     \u001b[38;5;28;01mreturn\u001b[39;00m \u001b[43mpandas_sql\u001b[49m\u001b[38;5;241;43m.\u001b[39;49m\u001b[43mread_query\u001b[49m\u001b[43m(\u001b[49m\n\u001b[1;32m    527\u001b[0m \u001b[43m        \u001b[49m\u001b[43msql\u001b[49m\u001b[43m,\u001b[49m\n\u001b[1;32m    528\u001b[0m \u001b[43m        \u001b[49m\u001b[43mindex_col\u001b[49m\u001b[38;5;241;43m=\u001b[39;49m\u001b[43mindex_col\u001b[49m\u001b[43m,\u001b[49m\n\u001b[1;32m    529\u001b[0m \u001b[43m        \u001b[49m\u001b[43mparams\u001b[49m\u001b[38;5;241;43m=\u001b[39;49m\u001b[43mparams\u001b[49m\u001b[43m,\u001b[49m\n\u001b[1;32m    530\u001b[0m \u001b[43m        \u001b[49m\u001b[43mcoerce_float\u001b[49m\u001b[38;5;241;43m=\u001b[39;49m\u001b[43mcoerce_float\u001b[49m\u001b[43m,\u001b[49m\n\u001b[1;32m    531\u001b[0m \u001b[43m        \u001b[49m\u001b[43mparse_dates\u001b[49m\u001b[38;5;241;43m=\u001b[39;49m\u001b[43mparse_dates\u001b[49m\u001b[43m,\u001b[49m\n\u001b[1;32m    532\u001b[0m \u001b[43m        \u001b[49m\u001b[43mchunksize\u001b[49m\u001b[38;5;241;43m=\u001b[39;49m\u001b[43mchunksize\u001b[49m\u001b[43m,\u001b[49m\n\u001b[1;32m    533\u001b[0m \u001b[43m        \u001b[49m\u001b[43mdtype\u001b[49m\u001b[38;5;241;43m=\u001b[39;49m\u001b[43mdtype\u001b[49m\u001b[43m,\u001b[49m\n\u001b[1;32m    534\u001b[0m \u001b[43m        \u001b[49m\u001b[43mdtype_backend\u001b[49m\u001b[38;5;241;43m=\u001b[39;49m\u001b[43mdtype_backend\u001b[49m\u001b[43m,\u001b[49m\n\u001b[1;32m    535\u001b[0m \u001b[43m    \u001b[49m\u001b[43m)\u001b[49m\n",
      "File \u001b[0;32m~/DS_Programming2/.venv/lib/python3.12/site-packages/pandas/io/sql.py:2738\u001b[0m, in \u001b[0;36mSQLiteDatabase.read_query\u001b[0;34m(self, sql, index_col, coerce_float, parse_dates, params, chunksize, dtype, dtype_backend)\u001b[0m\n\u001b[1;32m   2727\u001b[0m \u001b[38;5;28;01mdef\u001b[39;00m \u001b[38;5;21mread_query\u001b[39m(\n\u001b[1;32m   2728\u001b[0m     \u001b[38;5;28mself\u001b[39m,\n\u001b[1;32m   2729\u001b[0m     sql,\n\u001b[0;32m   (...)\u001b[0m\n\u001b[1;32m   2736\u001b[0m     dtype_backend: DtypeBackend \u001b[38;5;241m|\u001b[39m Literal[\u001b[38;5;124m\"\u001b[39m\u001b[38;5;124mnumpy\u001b[39m\u001b[38;5;124m\"\u001b[39m] \u001b[38;5;241m=\u001b[39m \u001b[38;5;124m\"\u001b[39m\u001b[38;5;124mnumpy\u001b[39m\u001b[38;5;124m\"\u001b[39m,\n\u001b[1;32m   2737\u001b[0m ) \u001b[38;5;241m-\u001b[39m\u001b[38;5;241m>\u001b[39m DataFrame \u001b[38;5;241m|\u001b[39m Iterator[DataFrame]:\n\u001b[0;32m-> 2738\u001b[0m     cursor \u001b[38;5;241m=\u001b[39m \u001b[38;5;28;43mself\u001b[39;49m\u001b[38;5;241;43m.\u001b[39;49m\u001b[43mexecute\u001b[49m\u001b[43m(\u001b[49m\u001b[43msql\u001b[49m\u001b[43m,\u001b[49m\u001b[43m \u001b[49m\u001b[43mparams\u001b[49m\u001b[43m)\u001b[49m\n\u001b[1;32m   2739\u001b[0m     columns \u001b[38;5;241m=\u001b[39m [col_desc[\u001b[38;5;241m0\u001b[39m] \u001b[38;5;28;01mfor\u001b[39;00m col_desc \u001b[38;5;129;01min\u001b[39;00m cursor\u001b[38;5;241m.\u001b[39mdescription]\n\u001b[1;32m   2741\u001b[0m     \u001b[38;5;28;01mif\u001b[39;00m chunksize \u001b[38;5;129;01mis\u001b[39;00m \u001b[38;5;129;01mnot\u001b[39;00m \u001b[38;5;28;01mNone\u001b[39;00m:\n",
      "File \u001b[0;32m~/DS_Programming2/.venv/lib/python3.12/site-packages/pandas/io/sql.py:2686\u001b[0m, in \u001b[0;36mSQLiteDatabase.execute\u001b[0;34m(self, sql, params)\u001b[0m\n\u001b[1;32m   2683\u001b[0m     \u001b[38;5;28;01mraise\u001b[39;00m ex \u001b[38;5;28;01mfrom\u001b[39;00m \u001b[38;5;21;01minner_exc\u001b[39;00m\n\u001b[1;32m   2685\u001b[0m ex \u001b[38;5;241m=\u001b[39m DatabaseError(\u001b[38;5;124mf\u001b[39m\u001b[38;5;124m\"\u001b[39m\u001b[38;5;124mExecution failed on sql \u001b[39m\u001b[38;5;124m'\u001b[39m\u001b[38;5;132;01m{\u001b[39;00msql\u001b[38;5;132;01m}\u001b[39;00m\u001b[38;5;124m'\u001b[39m\u001b[38;5;124m: \u001b[39m\u001b[38;5;132;01m{\u001b[39;00mexc\u001b[38;5;132;01m}\u001b[39;00m\u001b[38;5;124m\"\u001b[39m)\n\u001b[0;32m-> 2686\u001b[0m \u001b[38;5;28;01mraise\u001b[39;00m ex \u001b[38;5;28;01mfrom\u001b[39;00m \u001b[38;5;21;01mexc\u001b[39;00m\n",
      "\u001b[0;31mDatabaseError\u001b[0m: Execution failed on sql '\nSELECT\n    title,\n    salary,\n    company,\n    location,\n    welcomed_skills,\n    employment_type\nFROM jobs.db\n': no such table: jobs.db"
     ]
    }
   ],
   "source": [
    "import sqlite3\n",
    "import pandas as pd\n",
    "\n",
    "# SQLiteの場合の例。別のDBを利用される場合はSQLAlchemyなどをご利用ください。\n",
    "db_path = 'jobs.db'  # ご自身のDBファイルに置き換えてください\n",
    "conn = sqlite3.connect(db_path)\n",
    "\n",
    "# テーブル名は仮にjob_tableとして、必要に応じて修正してください\n",
    "query = \"\"\"\n",
    "SELECT\n",
    "    title,\n",
    "    salary,\n",
    "    company,\n",
    "    location,\n",
    "    welcomed_skills,\n",
    "    employment_type\n",
    "FROM jobs.db\n",
    "\"\"\"\n",
    "\n",
    "df = pd.read_sql_query(query, conn)\n",
    "conn.close()\n",
    "\n",
    "# 取得したデータの先頭5行を確認\n",
    "df.head()"
   ]
  },
  {
   "cell_type": "code",
   "execution_count": null,
   "metadata": {},
   "outputs": [],
   "source": [
    "import re\n",
    "from collections import Counter\n",
    "\n",
    "# タイトルのテキストを単語に分割（例として単純なsplitや正規表現を使用）\n",
    "# 日本語分かち書きが必要な場合はJanomeやMeCabなど適切なライブラリを使用する\n",
    "word_list = []\n",
    "for t in df['title']:\n",
    "    # 英字と数字と日本語(ひらがな・カタカナ・漢字)を考慮した単純な正規表現の例\n",
    "    # Pythonのバージョンや環境によってはうまく動かない場合があるので注意\n",
    "    words = re.findall(r'[a-zA-Z0-9ぁ-んァ-ン一-龥]+', str(t))\n",
    "    word_list.extend(words)\n",
    "\n",
    "# ワードの出現回数上位5つを抽出\n",
    "counter = Counter(word_list)\n",
    "top5_words = [w[0] for w in counter.most_common(5)]\n",
    "top5_words"
   ]
  },
  {
   "cell_type": "code",
   "execution_count": null,
   "metadata": {},
   "outputs": [],
   "source": [
    "import matplotlib.pyplot as plt\n",
    "import seaborn as sns\n",
    "\n",
    "# タイトルにtop5_wordsが含まれているかどうかをフラグ化する\n",
    "for word in top5_words:\n",
    "    df[f'has_{word}'] = df['title'].astype(str).apply(lambda x: 1 if word in x else 0)\n",
    "\n",
    "# グラフ表示のために各ワードが含まれるデータの平均年収を計算\n",
    "avg_salaries = []\n",
    "for word in top5_words:\n",
    "    avg_salaries.append(df[df[f'has_{word}'] == 1]['salary'].mean())\n",
    "\n",
    "plt.figure(figsize=(8, 6))\n",
    "sns.barplot(x=top5_words, y=avg_salaries)\n",
    "plt.title('Top 5 Words in Title and Average Salary')\n",
    "plt.xlabel('Word')\n",
    "plt.ylabel('Average Salary')\n",
    "plt.show()"
   ]
  },
  {
   "cell_type": "code",
   "execution_count": null,
   "metadata": {},
   "outputs": [],
   "source": [
    "company_counts = df['company'].value_counts()\n",
    "top5_companies = company_counts.index[:5]\n",
    "\n",
    "# 上位5社ごとに平均年収を計算\n",
    "company_salary = df[df['company'].isin(top5_companies)].groupby('company')['salary'].mean()\n",
    "\n",
    "plt.figure(figsize=(8, 6))\n",
    "sns.barplot(x=company_salary.index, y=company_salary.values)\n",
    "plt.title('Top 5 Companies and Average Salary')\n",
    "plt.xlabel('Company')\n",
    "plt.ylabel('Average Salary')\n",
    "plt.xticks(rotation=45)\n",
    "plt.tight_layout()\n",
    "plt.show()"
   ]
  },
  {
   "cell_type": "code",
   "execution_count": null,
   "metadata": {},
   "outputs": [],
   "source": [
    "location_counts = df['location'].value_counts()\n",
    "top5_locations = location_counts.index[:5]\n",
    "\n",
    "# 上位5つの勤務地ごとに平均年収を計算\n",
    "location_salary = df[df['location'].isin(top5_locations)].groupby('location')['salary'].mean()\n",
    "\n",
    "plt.figure(figsize=(8, 6))\n",
    "sns.barplot(x=location_salary.index, y=location_salary.values)\n",
    "plt.title('Top 5 Locations and Average Salary')\n",
    "plt.xlabel('Location')\n",
    "plt.ylabel('Average Salary')\n",
    "plt.xticks(rotation=45)\n",
    "plt.tight_layout()\n",
    "plt.show()"
   ]
  },
  {
   "cell_type": "code",
   "execution_count": null,
   "metadata": {},
   "outputs": [],
   "source": [
    "from collections import Counter\n",
    "\n",
    "all_skills = []\n",
    "for s in df['skills']:\n",
    "    if pd.notnull(s):\n",
    "        # カンマ区切り又はスペース区切りなどで split する例\n",
    "        splitted = re.split(r'[,\\s]+', s.strip())\n",
    "        all_skills.extend(splitted)\n",
    "\n",
    "skill_counter = Counter(all_skills)\n",
    "top5_skills = [skill for skill, count in skill_counter.most_common(5)]\n",
    "top5_skills"
   ]
  },
  {
   "cell_type": "code",
   "execution_count": null,
   "metadata": {},
   "outputs": [],
   "source": [
    "# スキルのフラグ列を作成\n",
    "for skill in top5_skills:\n",
    "    df[f'has_{skill}'] = df['skills'].astype(str).apply(lambda x: 1 if skill in x else 0)\n",
    "\n",
    "skill_avg_salaries = []\n",
    "for skill in top5_skills:\n",
    "    skill_avg_salaries.append(df[df[f'has_{skill}'] == 1]['salary'].mean())\n",
    "\n",
    "plt.figure(figsize=(8, 6))\n",
    "sns.barplot(x=top5_skills, y=skill_avg_salaries)\n",
    "plt.title('Top 5 Skills and Average Salary')\n",
    "plt.xlabel('Skill')\n",
    "plt.ylabel('Average Salary')\n",
    "plt.show()"
   ]
  },
  {
   "cell_type": "code",
   "execution_count": null,
   "metadata": {},
   "outputs": [],
   "source": [
    "employment_salary = df.groupby('employment_type')['salary'].mean()\n",
    "\n",
    "plt.figure(figsize=(8, 6))\n",
    "sns.barplot(x=employment_salary.index, y=employment_salary.values)\n",
    "plt.title('Employment Type and Average Salary')\n",
    "plt.xlabel('Employment Type')\n",
    "plt.ylabel('Average Salary')\n",
    "plt.show()"
   ]
  },
  {
   "cell_type": "code",
   "execution_count": null,
   "metadata": {},
   "outputs": [],
   "source": [
    "# タイトル上位5ワードフラグとsalaryのみを抽出\n",
    "cols_for_corr = [f'has_{w}' for w in top5_words] + ['salary']\n",
    "corr_df_title = df[cols_for_corr].corr()\n",
    "\n",
    "# 相関行列を表示\n",
    "corr_df_title"
   ]
  },
  {
   "cell_type": "code",
   "execution_count": null,
   "metadata": {},
   "outputs": [],
   "source": [
    "df['company_top5_or_other'] = df['company'].apply(lambda x: x if x in top5_companies else 'Other')\n",
    "df_company_dummies = pd.get_dummies(df['company_top5_or_other'], prefix='company')\n",
    "\n",
    "# 年収と企業ダミー変数をまとめる\n",
    "df_for_corr_company = pd.concat([df_company_dummies, df['salary']], axis=1)\n",
    "\n",
    "# 相関行列\n",
    "corr_df_company = df_for_corr_company.corr()\n",
    "corr_df_company"
   ]
  },
  {
   "cell_type": "code",
   "execution_count": null,
   "metadata": {},
   "outputs": [],
   "source": [
    "df['location_top5_or_other'] = df['location'].apply(lambda x: x if x in top5_locations else 'Other')\n",
    "df_location_dummies = pd.get_dummies(df['location_top5_or_other'], prefix='location')\n",
    "\n",
    "df_for_corr_location = pd.concat([df_location_dummies, df['salary']], axis=1)\n",
    "\n",
    "corr_df_location = df_for_corr_location.corr()\n",
    "corr_df_location"
   ]
  },
  {
   "cell_type": "code",
   "execution_count": null,
   "metadata": {},
   "outputs": [],
   "source": [
    "cols_for_corr_skills = [f'has_{skill}' for skill in top5_skills] + ['salary']\n",
    "corr_df_skills = df[cols_for_corr_skills].corr()\n",
    "\n",
    "corr_df_skills"
   ]
  },
  {
   "cell_type": "code",
   "execution_count": null,
   "metadata": {},
   "outputs": [],
   "source": [
    "df_employment_dummies = pd.get_dummies(df['employment_type'], prefix='emp_type')\n",
    "df_for_corr_employment = pd.concat([df_employment_dummies, df['salary']], axis=1)\n",
    "\n",
    "corr_df_employment = df_for_corr_employment.corr()\n",
    "corr_df_employment"
   ]
  }
 ],
 "metadata": {
  "kernelspec": {
   "display_name": ".venv",
   "language": "python",
   "name": "python3"
  },
  "language_info": {
   "codemirror_mode": {
    "name": "ipython",
    "version": 3
   },
   "file_extension": ".py",
   "mimetype": "text/x-python",
   "name": "python",
   "nbconvert_exporter": "python",
   "pygments_lexer": "ipython3",
   "version": "3.12.7"
  }
 },
 "nbformat": 4,
 "nbformat_minor": 2
}
